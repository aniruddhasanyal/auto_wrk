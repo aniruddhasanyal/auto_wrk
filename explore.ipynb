{
 "cells": [
  {
   "cell_type": "code",
   "execution_count": 1,
   "metadata": {
    "collapsed": true
   },
   "outputs": [],
   "source": [
    "import pandas as pd\n",
    "import glob\n",
    "from sklearn.model_selection import train_test_split"
   ]
  },
  {
   "cell_type": "code",
   "execution_count": 2,
   "metadata": {
    "collapsed": true
   },
   "outputs": [],
   "source": [
    "data_files = glob.glob('data/*.csv')"
   ]
  },
  {
   "cell_type": "code",
   "execution_count": 10,
   "metadata": {},
   "outputs": [
    {
     "name": "stderr",
     "output_type": "stream",
     "text": [
      "C:\\ProgramData\\Anaconda3\\lib\\site-packages\\IPython\\core\\interactiveshell.py:2717: DtypeWarning: Columns (33,83) have mixed types. Specify dtype option on import or set low_memory=False.\n",
      "  interactivity=interactivity, compiler=compiler, result=result)\n"
     ]
    }
   ],
   "source": [
    "data = []\n",
    "for file in data_files:\n",
    "    data.append(pd.read_csv(file))\n",
    "    \n",
    "data = pd.concat(data, axis=0)"
   ]
  },
  {
   "cell_type": "code",
   "execution_count": 13,
   "metadata": {
    "scrolled": true
   },
   "outputs": [
    {
     "data": {
      "text/plain": [
       "array(['CLAV_CA_HI_ID', 'CLAV_CA_NK_ID', 'COMPANY_CODE', 'CLAIM_BR',\n",
       "       'CLAIM_NO', 'SEQ_NO__CA', 'ABBR_NAME', 'POLICY_BR', 'POLICY_NO',\n",
       "       'POLICY_TYP', 'CLIENT_BR', 'CLIENT_NO', 'ACCOUNT_BR', 'ACCOUNT_NO',\n",
       "       'TERM_ID', 'TRAN_DATE', 'TRAN_TIME', 'TRAN_USER', 'VALID_FLAG',\n",
       "       'RISK_NO', 'RI_METHOD', 'RI_TRNO', 'DATE_REPT', 'DATE_OCC',\n",
       "       'DATE_INC', 'DATE_EXP', 'RSK_CLASS', 'CLAIMANT', 'CLM_INITIAL',\n",
       "       'CLM_DESC1', 'HS_FLAG', 'SOLICTOR_A', 'SOLICTOR_B', 'CO_CAT',\n",
       "       'ICA_CAT', 'SUBROG', 'ASSESSR_A', 'ASSESSR_B', 'CL_INIT',\n",
       "       'ESTIMATE', 'CHANGE_DATE', 'CLAIM_STATUS', 'REOPEN', 'PAY_BLOCK',\n",
       "       'ACCPT_FLG', 'BAL_OUTS', 'PAID', 'INCURRED', 'BO_TU', 'PAID_TU',\n",
       "       'INC_TU', 'OTHER_PARTY', 'SUB_CLASS', 'T_PARTY', 'STATUS_DATE',\n",
       "       'RATE_NCB', 'PREINC', 'RECOVERY', 'SETTLING_BR', 'RECOVERY_TU',\n",
       "       'ACTIVITY_DATE', 'DENIED_FLAG', 'REASON_DENIED', 'INVESTIGATOR_A',\n",
       "       'INVESTIGATOR_B', 'OLD_ARCHIVE_BOX', 'DESTROY_DATE', 'ARCHIVE_BOX',\n",
       "       'CONFDTIAL', 'TAX_PERC', 'SOURCE', 'SCC', 'SCC_DATE', 'RRN__CA',\n",
       "       'VALID_REC', 'CLAV_CA_START_DATE', 'CLAV_CA_END_DATE',\n",
       "       'PREV_END_DATE', 'LOAD_ID', 'LAST_UPDATE_LOAD_ID', 'POLICYNO',\n",
       "       'CLAIMNO', 'INCIDENT_DESC', 'CLAIM_TYPE_F', 'RECOVERY_FLAG'], dtype=object)"
      ]
     },
     "execution_count": 13,
     "metadata": {},
     "output_type": "execute_result"
    }
   ],
   "source": [
    "data.columns.values"
   ]
  },
  {
   "cell_type": "code",
   "execution_count": 16,
   "metadata": {
    "collapsed": true
   },
   "outputs": [],
   "source": [
    "strat = data.RECOVERY_FLAG"
   ]
  },
  {
   "cell_type": "code",
   "execution_count": 24,
   "metadata": {},
   "outputs": [],
   "source": [
    "_, data_small = train_test_split(data, test_size=0.1, stratify=strat)"
   ]
  },
  {
   "cell_type": "code",
   "execution_count": 25,
   "metadata": {},
   "outputs": [
    {
     "data": {
      "text/plain": [
       "(55797, 85)"
      ]
     },
     "execution_count": 25,
     "metadata": {},
     "output_type": "execute_result"
    }
   ],
   "source": [
    "data_small.shape"
   ]
  },
  {
   "cell_type": "code",
   "execution_count": 31,
   "metadata": {},
   "outputs": [],
   "source": [
    "data_small.to_csv('sample_data.csv', index=False)"
   ]
  },
  {
   "cell_type": "code",
   "execution_count": 27,
   "metadata": {
    "collapsed": true
   },
   "outputs": [],
   "source": [
    "del data"
   ]
  },
  {
   "cell_type": "code",
   "execution_count": 2,
   "metadata": {},
   "outputs": [
    {
     "name": "stderr",
     "output_type": "stream",
     "text": [
      "C:\\ProgramData\\Anaconda3\\lib\\site-packages\\IPython\\core\\interactiveshell.py:2717: DtypeWarning: Columns (33,83) have mixed types. Specify dtype option on import or set low_memory=False.\n",
      "  interactivity=interactivity, compiler=compiler, result=result)\n"
     ]
    }
   ],
   "source": [
    "data_small = pd.read_csv('sample_data.csv')"
   ]
  },
  {
   "cell_type": "code",
   "execution_count": 3,
   "metadata": {},
   "outputs": [
    {
     "data": {
      "text/plain": [
       "['CLM_DESC1']"
      ]
     },
     "execution_count": 3,
     "metadata": {},
     "output_type": "execute_result"
    }
   ],
   "source": [
    "[col for col in data_small.columns if col.endswith('DESC1')]"
   ]
  },
  {
   "cell_type": "code",
   "execution_count": 30,
   "metadata": {},
   "outputs": [
    {
     "data": {
      "text/plain": [
       "array(['CLAV_CA_HI_ID', 'CLAV_CA_NK_ID', 'COMPANY_CODE', 'CLAIM_BR',\n",
       "       'CLAIM_NO', 'SEQ_NO__CA', 'ABBR_NAME', 'POLICY_BR', 'POLICY_NO',\n",
       "       'POLICY_TYP', 'CLIENT_BR', 'CLIENT_NO', 'ACCOUNT_BR', 'ACCOUNT_NO',\n",
       "       'TERM_ID', 'TRAN_DATE', 'TRAN_TIME', 'TRAN_USER', 'VALID_FLAG',\n",
       "       'RISK_NO', 'RI_METHOD', 'RI_TRNO', 'DATE_REPT', 'DATE_OCC',\n",
       "       'DATE_INC', 'DATE_EXP', 'RSK_CLASS', 'CLAIMANT', 'CLM_INITIAL',\n",
       "       'CLM_DESC1', 'HS_FLAG', 'SOLICTOR_A', 'SOLICTOR_B', 'CO_CAT',\n",
       "       'ICA_CAT', 'SUBROG', 'ASSESSR_A', 'ASSESSR_B', 'CL_INIT',\n",
       "       'ESTIMATE', 'CHANGE_DATE', 'CLAIM_STATUS', 'REOPEN', 'PAY_BLOCK',\n",
       "       'ACCPT_FLG', 'BAL_OUTS', 'PAID', 'INCURRED', 'BO_TU', 'PAID_TU',\n",
       "       'INC_TU', 'OTHER_PARTY', 'SUB_CLASS', 'T_PARTY', 'STATUS_DATE',\n",
       "       'RATE_NCB', 'PREINC', 'RECOVERY', 'SETTLING_BR', 'RECOVERY_TU',\n",
       "       'ACTIVITY_DATE', 'DENIED_FLAG', 'REASON_DENIED', 'INVESTIGATOR_A',\n",
       "       'INVESTIGATOR_B', 'OLD_ARCHIVE_BOX', 'DESTROY_DATE', 'ARCHIVE_BOX',\n",
       "       'CONFDTIAL', 'TAX_PERC', 'SOURCE', 'SCC', 'SCC_DATE', 'RRN__CA',\n",
       "       'VALID_REC', 'CLAV_CA_START_DATE', 'CLAV_CA_END_DATE',\n",
       "       'PREV_END_DATE', 'LOAD_ID', 'LAST_UPDATE_LOAD_ID', 'POLICYNO',\n",
       "       'CLAIMNO', 'INCIDENT_DESC', 'CLAIM_TYPE_F', 'RECOVERY_FLAG'], dtype=object)"
      ]
     },
     "execution_count": 30,
     "metadata": {},
     "output_type": "execute_result"
    }
   ],
   "source": [
    "data_small.columns.values"
   ]
  },
  {
   "cell_type": "code",
   "execution_count": 4,
   "metadata": {},
   "outputs": [],
   "source": [
    "data_small.INCIDENT_DESC.fillna('')\n",
    "data_small.INCIDENT_DESC = data_small.INCIDENT_DESC.astype(str)\n",
    "data_small.CLM_DESC1 = data_small.CLM_DESC1.astype(str)\n",
    "data_small['text'] = data_small.apply(lambda x: x.CLM_DESC1 if len(x.INCIDENT_DESC) < 7 else x.INCIDENT_DESC, axis=1)"
   ]
  },
  {
   "cell_type": "code",
   "execution_count": 44,
   "metadata": {},
   "outputs": [
    {
     "data": {
      "text/plain": [
       "241760                                          INSD HIT TP\n",
       "302326                        TP HIT INSURED PARKED VEHICLE\n",
       "46352     THIRD PARTY HAS REVERSED INTO INSURED AND THEN...\n",
       "242319                                  TP HIT INSD IN REAR\n",
       "43697     SUICIDAL KANGAROO JUMPED OUT FROM BEHIND A LAR...\n",
       "Name: text, dtype: object"
      ]
     },
     "execution_count": 44,
     "metadata": {},
     "output_type": "execute_result"
    }
   ],
   "source": [
    "data_small.text[:5]"
   ]
  },
  {
   "cell_type": "code",
   "execution_count": 5,
   "metadata": {
    "collapsed": true
   },
   "outputs": [],
   "source": [
    "unstr_data = data_small[['text', 'RECOVERY_FLAG']]"
   ]
  },
  {
   "cell_type": "code",
   "execution_count": 6,
   "metadata": {
    "collapsed": true
   },
   "outputs": [],
   "source": [
    "unstr_data.columns = [col.lower() for col in unstr_data.columns]"
   ]
  },
  {
   "cell_type": "code",
   "execution_count": 7,
   "metadata": {},
   "outputs": [
    {
     "data": {
      "text/html": [
       "<div>\n",
       "<style>\n",
       "    .dataframe thead tr:only-child th {\n",
       "        text-align: right;\n",
       "    }\n",
       "\n",
       "    .dataframe thead th {\n",
       "        text-align: left;\n",
       "    }\n",
       "\n",
       "    .dataframe tbody tr th {\n",
       "        vertical-align: top;\n",
       "    }\n",
       "</style>\n",
       "<table border=\"1\" class=\"dataframe\">\n",
       "  <thead>\n",
       "    <tr style=\"text-align: right;\">\n",
       "      <th></th>\n",
       "      <th>text</th>\n",
       "      <th>recovery_flag</th>\n",
       "    </tr>\n",
       "  </thead>\n",
       "  <tbody>\n",
       "    <tr>\n",
       "      <th>0</th>\n",
       "      <td>INSD HIT TP</td>\n",
       "      <td>0</td>\n",
       "    </tr>\n",
       "    <tr>\n",
       "      <th>1</th>\n",
       "      <td>TP HIT INSURED PARKED VEHICLE</td>\n",
       "      <td>0</td>\n",
       "    </tr>\n",
       "    <tr>\n",
       "      <th>2</th>\n",
       "      <td>THIRD PARTY HAS REVERSED INTO INSURED AND THEN...</td>\n",
       "      <td>0</td>\n",
       "    </tr>\n",
       "    <tr>\n",
       "      <th>3</th>\n",
       "      <td>TP HIT INSD IN REAR</td>\n",
       "      <td>1</td>\n",
       "    </tr>\n",
       "    <tr>\n",
       "      <th>4</th>\n",
       "      <td>SUICIDAL KANGAROO JUMPED OUT FROM BEHIND A LAR...</td>\n",
       "      <td>0</td>\n",
       "    </tr>\n",
       "  </tbody>\n",
       "</table>\n",
       "</div>"
      ],
      "text/plain": [
       "                                                text  recovery_flag\n",
       "0                                        INSD HIT TP              0\n",
       "1                      TP HIT INSURED PARKED VEHICLE              0\n",
       "2  THIRD PARTY HAS REVERSED INTO INSURED AND THEN...              0\n",
       "3                                TP HIT INSD IN REAR              1\n",
       "4  SUICIDAL KANGAROO JUMPED OUT FROM BEHIND A LAR...              0"
      ]
     },
     "execution_count": 7,
     "metadata": {},
     "output_type": "execute_result"
    }
   ],
   "source": [
    "unstr_data[:5]"
   ]
  },
  {
   "cell_type": "code",
   "execution_count": 14,
   "metadata": {
    "collapsed": true
   },
   "outputs": [],
   "source": [
    "import string\n",
    "import re\n",
    "from nltk import word_tokenize\n",
    "from nltk.corpus import stopwords\n",
    "\n",
    "stop = set(stopwords.words('english')).union(set(string.punctuation))\n",
    "\n",
    "def unescape(s):\n",
    "    '''This is a function to remove stubborn garbage in the text'''\n",
    "\n",
    "    s = str(s)\n",
    "    s = re.sub(r\"<.*?>\", \"\", s)\n",
    "    s = s.replace(\"&lt;\", \"less\").replace(\"&gt;\", \"greater\").replace(\"&amp;\", \"and\").replace(\"x0D\", \"\")\n",
    "    s = s.replace(\"\\n\", \" \").replace(\"\\r\", \" \").replace(\"*\", \" \").replace(\"&#;\", '').replace(\"\\t\", \"\")\n",
    "    s = s.replace(\"(\", \"\").replace(\")\", \"\").replace(\"null,\", \"\").replace('\\'', \"\")\n",
    "    s = re.sub('[^A-Za-z,.[space]]+', '', s)\n",
    "    s = re.sub('[ \\t]+', ' ', s)\n",
    "    return s\n",
    "\n",
    "\n",
    "def tokenize(txt):\n",
    "    return [unescape(w) for w in word_tokenize(txt.lower()) if w not in stop and len(w) > 3]"
   ]
  },
  {
   "cell_type": "code",
   "execution_count": 15,
   "metadata": {},
   "outputs": [],
   "source": [
    "from sklearn.feature_extraction.text import TfidfVectorizer\n",
    "\n",
    "\n",
    "vectorizer = TfidfVectorizer(norm='l2', min_df=2, use_idf=True, ngram_range=(1, 3),\n",
    "                             smooth_idf=False, tokenizer=tokenize,\n",
    "                             stop_words='english', max_features=500)\n",
    "\n",
    "text = unstr_data.text\n",
    "tf_idf = vectorizer.fit_transform(text)"
   ]
  },
  {
   "cell_type": "code",
   "execution_count": 19,
   "metadata": {},
   "outputs": [
    {
     "data": {
      "text/plain": [
       "scipy.sparse.csr.csr_matrix"
      ]
     },
     "execution_count": 19,
     "metadata": {},
     "output_type": "execute_result"
    }
   ],
   "source": [
    "type(tf_idf)"
   ]
  },
  {
   "cell_type": "code",
   "execution_count": 21,
   "metadata": {},
   "outputs": [],
   "source": [
    "X = pd.DataFrame(tf_idf.toarray(), columns=vectorizer.get_feature_names())"
   ]
  },
  {
   "cell_type": "code",
   "execution_count": 23,
   "metadata": {},
   "outputs": [
    {
     "data": {
      "text/html": [
       "<div>\n",
       "<style>\n",
       "    .dataframe thead tr:only-child th {\n",
       "        text-align: right;\n",
       "    }\n",
       "\n",
       "    .dataframe thead th {\n",
       "        text-align: left;\n",
       "    }\n",
       "\n",
       "    .dataframe tbody tr th {\n",
       "        vertical-align: top;\n",
       "    }\n",
       "</style>\n",
       "<table border=\"1\" class=\"dataframe\">\n",
       "  <thead>\n",
       "    <tr style=\"text-align: right;\">\n",
       "      <th></th>\n",
       "      <th>accident</th>\n",
       "      <th>accidentally</th>\n",
       "      <th>accidently</th>\n",
       "      <th>advised</th>\n",
       "      <th>animal</th>\n",
       "      <th>approaching</th>\n",
       "      <th>area</th>\n",
       "      <th>attached</th>\n",
       "      <th>attempted</th>\n",
       "      <th>attempting</th>\n",
       "      <th>...</th>\n",
       "      <th>windscreen breakage</th>\n",
       "      <th>windscreen claim</th>\n",
       "      <th>windscreen cracked</th>\n",
       "      <th>windscreen damage</th>\n",
       "      <th>windscreen damaged</th>\n",
       "      <th>windscreen window</th>\n",
       "      <th>windscreen window damage</th>\n",
       "      <th>work</th>\n",
       "      <th>wrong</th>\n",
       "      <th>yard</th>\n",
       "    </tr>\n",
       "  </thead>\n",
       "  <tbody>\n",
       "    <tr>\n",
       "      <th>0</th>\n",
       "      <td>0.0</td>\n",
       "      <td>0.0</td>\n",
       "      <td>0.0</td>\n",
       "      <td>0.0</td>\n",
       "      <td>0.0</td>\n",
       "      <td>0.0</td>\n",
       "      <td>0.0</td>\n",
       "      <td>0.0</td>\n",
       "      <td>0.0</td>\n",
       "      <td>0.0</td>\n",
       "      <td>...</td>\n",
       "      <td>0.0</td>\n",
       "      <td>0.0</td>\n",
       "      <td>0.0</td>\n",
       "      <td>0.0</td>\n",
       "      <td>0.0</td>\n",
       "      <td>0.0</td>\n",
       "      <td>0.0</td>\n",
       "      <td>0.0</td>\n",
       "      <td>0.0</td>\n",
       "      <td>0.0</td>\n",
       "    </tr>\n",
       "    <tr>\n",
       "      <th>1</th>\n",
       "      <td>0.0</td>\n",
       "      <td>0.0</td>\n",
       "      <td>0.0</td>\n",
       "      <td>0.0</td>\n",
       "      <td>0.0</td>\n",
       "      <td>0.0</td>\n",
       "      <td>0.0</td>\n",
       "      <td>0.0</td>\n",
       "      <td>0.0</td>\n",
       "      <td>0.0</td>\n",
       "      <td>...</td>\n",
       "      <td>0.0</td>\n",
       "      <td>0.0</td>\n",
       "      <td>0.0</td>\n",
       "      <td>0.0</td>\n",
       "      <td>0.0</td>\n",
       "      <td>0.0</td>\n",
       "      <td>0.0</td>\n",
       "      <td>0.0</td>\n",
       "      <td>0.0</td>\n",
       "      <td>0.0</td>\n",
       "    </tr>\n",
       "    <tr>\n",
       "      <th>2</th>\n",
       "      <td>0.0</td>\n",
       "      <td>0.0</td>\n",
       "      <td>0.0</td>\n",
       "      <td>0.0</td>\n",
       "      <td>0.0</td>\n",
       "      <td>0.0</td>\n",
       "      <td>0.0</td>\n",
       "      <td>0.0</td>\n",
       "      <td>0.0</td>\n",
       "      <td>0.0</td>\n",
       "      <td>...</td>\n",
       "      <td>0.0</td>\n",
       "      <td>0.0</td>\n",
       "      <td>0.0</td>\n",
       "      <td>0.0</td>\n",
       "      <td>0.0</td>\n",
       "      <td>0.0</td>\n",
       "      <td>0.0</td>\n",
       "      <td>0.0</td>\n",
       "      <td>0.0</td>\n",
       "      <td>0.0</td>\n",
       "    </tr>\n",
       "    <tr>\n",
       "      <th>3</th>\n",
       "      <td>0.0</td>\n",
       "      <td>0.0</td>\n",
       "      <td>0.0</td>\n",
       "      <td>0.0</td>\n",
       "      <td>0.0</td>\n",
       "      <td>0.0</td>\n",
       "      <td>0.0</td>\n",
       "      <td>0.0</td>\n",
       "      <td>0.0</td>\n",
       "      <td>0.0</td>\n",
       "      <td>...</td>\n",
       "      <td>0.0</td>\n",
       "      <td>0.0</td>\n",
       "      <td>0.0</td>\n",
       "      <td>0.0</td>\n",
       "      <td>0.0</td>\n",
       "      <td>0.0</td>\n",
       "      <td>0.0</td>\n",
       "      <td>0.0</td>\n",
       "      <td>0.0</td>\n",
       "      <td>0.0</td>\n",
       "    </tr>\n",
       "    <tr>\n",
       "      <th>4</th>\n",
       "      <td>0.0</td>\n",
       "      <td>0.0</td>\n",
       "      <td>0.0</td>\n",
       "      <td>0.0</td>\n",
       "      <td>0.0</td>\n",
       "      <td>0.0</td>\n",
       "      <td>0.0</td>\n",
       "      <td>0.0</td>\n",
       "      <td>0.0</td>\n",
       "      <td>0.0</td>\n",
       "      <td>...</td>\n",
       "      <td>0.0</td>\n",
       "      <td>0.0</td>\n",
       "      <td>0.0</td>\n",
       "      <td>0.0</td>\n",
       "      <td>0.0</td>\n",
       "      <td>0.0</td>\n",
       "      <td>0.0</td>\n",
       "      <td>0.0</td>\n",
       "      <td>0.0</td>\n",
       "      <td>0.0</td>\n",
       "    </tr>\n",
       "  </tbody>\n",
       "</table>\n",
       "<p>5 rows × 500 columns</p>\n",
       "</div>"
      ],
      "text/plain": [
       "   accident  accidentally  accidently  advised  animal  approaching  area  \\\n",
       "0       0.0           0.0         0.0      0.0     0.0          0.0   0.0   \n",
       "1       0.0           0.0         0.0      0.0     0.0          0.0   0.0   \n",
       "2       0.0           0.0         0.0      0.0     0.0          0.0   0.0   \n",
       "3       0.0           0.0         0.0      0.0     0.0          0.0   0.0   \n",
       "4       0.0           0.0         0.0      0.0     0.0          0.0   0.0   \n",
       "\n",
       "   attached  attempted  attempting  ...   windscreen breakage  \\\n",
       "0       0.0        0.0         0.0  ...                   0.0   \n",
       "1       0.0        0.0         0.0  ...                   0.0   \n",
       "2       0.0        0.0         0.0  ...                   0.0   \n",
       "3       0.0        0.0         0.0  ...                   0.0   \n",
       "4       0.0        0.0         0.0  ...                   0.0   \n",
       "\n",
       "   windscreen claim  windscreen cracked  windscreen damage  \\\n",
       "0               0.0                 0.0                0.0   \n",
       "1               0.0                 0.0                0.0   \n",
       "2               0.0                 0.0                0.0   \n",
       "3               0.0                 0.0                0.0   \n",
       "4               0.0                 0.0                0.0   \n",
       "\n",
       "   windscreen damaged  windscreen window  windscreen window damage  work  \\\n",
       "0                 0.0                0.0                       0.0   0.0   \n",
       "1                 0.0                0.0                       0.0   0.0   \n",
       "2                 0.0                0.0                       0.0   0.0   \n",
       "3                 0.0                0.0                       0.0   0.0   \n",
       "4                 0.0                0.0                       0.0   0.0   \n",
       "\n",
       "   wrong  yard  \n",
       "0    0.0   0.0  \n",
       "1    0.0   0.0  \n",
       "2    0.0   0.0  \n",
       "3    0.0   0.0  \n",
       "4    0.0   0.0  \n",
       "\n",
       "[5 rows x 500 columns]"
      ]
     },
     "execution_count": 23,
     "metadata": {},
     "output_type": "execute_result"
    }
   ],
   "source": [
    "X.head()"
   ]
  },
  {
   "cell_type": "code",
   "execution_count": 27,
   "metadata": {},
   "outputs": [],
   "source": [
    "from sklearn.ensemble import RandomForestClassifier\n",
    "\n",
    "\n",
    "clf = RandomForestClassifier(n_estimators=100, criterion='gini', max_depth=None, min_samples_split=2,\n",
    "                             min_samples_leaf=1, min_weight_fraction_leaf=0.0, max_features='auto', max_leaf_nodes=None,\n",
    "                             bootstrap=True, oob_score=False, n_jobs=1,\n",
    "                             random_state=None, verbose=0, warm_start=False, class_weight='balanced')"
   ]
  },
  {
   "cell_type": "code",
   "execution_count": 28,
   "metadata": {
    "collapsed": true
   },
   "outputs": [],
   "source": [
    "y = unstr_data.recovery_flag"
   ]
  },
  {
   "cell_type": "code",
   "execution_count": 30,
   "metadata": {},
   "outputs": [
    {
     "data": {
      "text/plain": [
       "RandomForestClassifier(bootstrap=True, class_weight='balanced',\n",
       "            criterion='gini', max_depth=None, max_features='auto',\n",
       "            max_leaf_nodes=None, min_impurity_split=1e-07,\n",
       "            min_samples_leaf=1, min_samples_split=2,\n",
       "            min_weight_fraction_leaf=0.0, n_estimators=100, n_jobs=1,\n",
       "            oob_score=False, random_state=None, verbose=0,\n",
       "            warm_start=False)"
      ]
     },
     "execution_count": 30,
     "metadata": {},
     "output_type": "execute_result"
    }
   ],
   "source": [
    "clf.fit(X, y)"
   ]
  },
  {
   "cell_type": "code",
   "execution_count": null,
   "metadata": {
    "collapsed": true
   },
   "outputs": [],
   "source": [
    "clf.score(X, y)"
   ]
  }
 ],
 "metadata": {
  "kernelspec": {
   "display_name": "Python 3",
   "language": "python",
   "name": "python3"
  },
  "language_info": {
   "codemirror_mode": {
    "name": "ipython",
    "version": 3
   },
   "file_extension": ".py",
   "mimetype": "text/x-python",
   "name": "python",
   "nbconvert_exporter": "python",
   "pygments_lexer": "ipython3",
   "version": "3.6.1"
  }
 },
 "nbformat": 4,
 "nbformat_minor": 2
}
